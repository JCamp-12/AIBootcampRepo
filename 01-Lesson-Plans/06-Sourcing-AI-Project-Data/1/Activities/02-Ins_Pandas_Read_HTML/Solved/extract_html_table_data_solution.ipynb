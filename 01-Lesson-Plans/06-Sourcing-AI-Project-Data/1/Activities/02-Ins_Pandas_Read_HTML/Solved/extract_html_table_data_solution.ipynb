{
 "cells": [
  {
   "cell_type": "markdown",
   "metadata": {
    "slideshow": {
     "slide_type": "slide"
    }
   },
   "source": [
    "# Sourcing Data from HTML Tables with Pandas"
   ]
  },
  {
   "cell_type": "code",
   "execution_count": 1,
   "metadata": {
    "slideshow": {
     "slide_type": "slide"
    }
   },
   "outputs": [],
   "source": [
    "import pandas as pd"
   ]
  },
  {
   "cell_type": "markdown",
   "metadata": {
    "slideshow": {
     "slide_type": "subslide"
    }
   },
   "source": [
    "We can use the `read_html` function in Pandas to automatically extract any tabular data from a page."
   ]
  },
  {
   "cell_type": "code",
   "execution_count": 2,
   "metadata": {
    "slideshow": {
     "slide_type": "fragment"
    }
   },
   "outputs": [],
   "source": [
    "url = 'https://en.wikipedia.org/wiki/Stellar_Blade'"
   ]
  },
  {
   "cell_type": "code",
   "execution_count": 3,
   "metadata": {
    "slideshow": {
     "slide_type": "fragment"
    }
   },
   "outputs": [
    {
     "data": {
      "text/plain": [
       "[   Stellar Blade                             Stellar Blade.1\n",
       " 0            NaN                                         NaN\n",
       " 1   Developer(s)                                    Shift Up\n",
       " 2   Publisher(s)              Sony Interactive Entertainment\n",
       " 3    Director(s)                               Kim Hyung-tae\n",
       " 4    Producer(s)                                Lee Joo-hwan\n",
       " 5    Designer(s)  Kim Hyung-tae Lee Chang-min Jang Hee-cheol\n",
       " 6    Composer(s)        Park Jin-bae Oliver Good Keita Inoue\n",
       " 7         Engine                             Unreal Engine 4\n",
       " 8    Platform(s)                               PlayStation 5\n",
       " 9        Release                              April 26, 2024\n",
       " 10      Genre(s)                           Action, Adventure\n",
       " 11       Mode(s)                               Single-player]"
      ]
     },
     "execution_count": 3,
     "metadata": {},
     "output_type": "execute_result"
    }
   ],
   "source": [
    "tables = pd.read_html(url)\n",
    "tables"
   ]
  },
  {
   "cell_type": "markdown",
   "metadata": {
    "slideshow": {
     "slide_type": "subslide"
    }
   },
   "source": [
    "#### What we get in return is a list of dataframes for any tabular data that Pandas found."
   ]
  },
  {
   "cell_type": "code",
   "execution_count": 4,
   "metadata": {
    "slideshow": {
     "slide_type": "fragment"
    }
   },
   "outputs": [
    {
     "data": {
      "text/plain": [
       "list"
      ]
     },
     "execution_count": 4,
     "metadata": {},
     "output_type": "execute_result"
    }
   ],
   "source": [
    "type(tables)"
   ]
  },
  {
   "cell_type": "markdown",
   "metadata": {
    "slideshow": {
     "slide_type": "subslide"
    }
   },
   "source": [
    "#### We can slice off any of those dataframes that we want using normal indexing."
   ]
  },
  {
   "cell_type": "code",
   "execution_count": 5,
   "metadata": {
    "slideshow": {
     "slide_type": "fragment"
    }
   },
   "outputs": [
    {
     "ename": "IndexError",
     "evalue": "list index out of range",
     "output_type": "error",
     "traceback": [
      "\u001b[0;31m---------------------------------------------------------------------------\u001b[0m",
      "\u001b[0;31mIndexError\u001b[0m                                Traceback (most recent call last)",
      "Cell \u001b[0;32mIn[5], line 1\u001b[0m\n\u001b[0;32m----> 1\u001b[0m df \u001b[38;5;241m=\u001b[39m \u001b[43mtables\u001b[49m\u001b[43m[\u001b[49m\u001b[38;5;241;43m1\u001b[39;49m\u001b[43m]\u001b[49m\n\u001b[1;32m      2\u001b[0m df\u001b[38;5;241m.\u001b[39mhead()\n",
      "\u001b[0;31mIndexError\u001b[0m: list index out of range"
     ]
    }
   ],
   "source": [
    "df = tables[1]\n",
    "df.head()"
   ]
  },
  {
   "cell_type": "markdown",
   "metadata": {
    "slideshow": {
     "slide_type": "subslide"
    }
   },
   "source": [
    "#### Fix column names"
   ]
  },
  {
   "cell_type": "code",
   "execution_count": 6,
   "metadata": {
    "slideshow": {
     "slide_type": "fragment"
    }
   },
   "outputs": [
    {
     "data": {
      "text/html": [
       "<div>\n",
       "<style scoped>\n",
       "    .dataframe tbody tr th:only-of-type {\n",
       "        vertical-align: middle;\n",
       "    }\n",
       "\n",
       "    .dataframe tbody tr th {\n",
       "        vertical-align: top;\n",
       "    }\n",
       "\n",
       "    .dataframe thead th {\n",
       "        text-align: right;\n",
       "    }\n",
       "</style>\n",
       "<table border=\"1\" class=\"dataframe\">\n",
       "  <thead>\n",
       "    <tr style=\"text-align: right;\">\n",
       "      <th></th>\n",
       "      <th>State/territory</th>\n",
       "      <th>Capital</th>\n",
       "      <th>City population</th>\n",
       "      <th>State/territory population</th>\n",
       "      <th>Percentage of state/territory population in capital city</th>\n",
       "      <th>Established</th>\n",
       "      <th>Capital since</th>\n",
       "      <th>Image</th>\n",
       "    </tr>\n",
       "  </thead>\n",
       "  <tbody>\n",
       "    <tr>\n",
       "      <th>0</th>\n",
       "      <td>Australian Capital Territory</td>\n",
       "      <td>Canberra</td>\n",
       "      <td>403468</td>\n",
       "      <td>403468</td>\n",
       "      <td>100.00%</td>\n",
       "      <td>1913</td>\n",
       "      <td>1913</td>\n",
       "      <td>NaN</td>\n",
       "    </tr>\n",
       "    <tr>\n",
       "      <th>1</th>\n",
       "      <td>New South Wales</td>\n",
       "      <td>Sydney</td>\n",
       "      <td>5029768</td>\n",
       "      <td>7759274</td>\n",
       "      <td>64.82%</td>\n",
       "      <td>1788</td>\n",
       "      <td>1788</td>\n",
       "      <td>NaN</td>\n",
       "    </tr>\n",
       "    <tr>\n",
       "      <th>2</th>\n",
       "      <td>Northern Territory</td>\n",
       "      <td>Darwin</td>\n",
       "      <td>145916</td>\n",
       "      <td>245740</td>\n",
       "      <td>59.38%</td>\n",
       "      <td>1869</td>\n",
       "      <td>1911</td>\n",
       "      <td>NaN</td>\n",
       "    </tr>\n",
       "    <tr>\n",
       "      <th>3</th>\n",
       "      <td>Queensland</td>\n",
       "      <td>Brisbane</td>\n",
       "      <td>2360241</td>\n",
       "      <td>4848877</td>\n",
       "      <td>48.68%</td>\n",
       "      <td>1825</td>\n",
       "      <td>1860</td>\n",
       "      <td>NaN</td>\n",
       "    </tr>\n",
       "    <tr>\n",
       "      <th>4</th>\n",
       "      <td>South Australia</td>\n",
       "      <td>Adelaide</td>\n",
       "      <td>1324279</td>\n",
       "      <td>1713054</td>\n",
       "      <td>77.31%</td>\n",
       "      <td>1836</td>\n",
       "      <td>1836</td>\n",
       "      <td>NaN</td>\n",
       "    </tr>\n",
       "  </tbody>\n",
       "</table>\n",
       "</div>"
      ],
      "text/plain": [
       "                State/territory   Capital  City population  \\\n",
       "0  Australian Capital Territory  Canberra           403468   \n",
       "1               New South Wales    Sydney          5029768   \n",
       "2            Northern Territory    Darwin           145916   \n",
       "3                    Queensland  Brisbane          2360241   \n",
       "4               South Australia  Adelaide          1324279   \n",
       "\n",
       "   State/territory population  \\\n",
       "0                      403468   \n",
       "1                     7759274   \n",
       "2                      245740   \n",
       "3                     4848877   \n",
       "4                     1713054   \n",
       "\n",
       "  Percentage of state/territory population in capital city  Established  \\\n",
       "0                                            100.00%               1913   \n",
       "1                                             64.82%               1788   \n",
       "2                                             59.38%               1869   \n",
       "3                                             48.68%               1825   \n",
       "4                                             77.31%               1836   \n",
       "\n",
       "   Capital since  Image  \n",
       "0           1913    NaN  \n",
       "1           1788    NaN  \n",
       "2           1911    NaN  \n",
       "3           1860    NaN  \n",
       "4           1836    NaN  "
      ]
     },
     "execution_count": 6,
     "metadata": {},
     "output_type": "execute_result"
    }
   ],
   "source": [
    "cols = list(df.columns)\n",
    "cols[2] = \"City population\"\n",
    "cols[3] = \"State/territory population\"\n",
    "df.columns = cols\n",
    "df.head()"
   ]
  },
  {
   "cell_type": "markdown",
   "metadata": {
    "slideshow": {
     "slide_type": "subslide"
    }
   },
   "source": [
    "#### Drop a column"
   ]
  },
  {
   "cell_type": "code",
   "execution_count": 7,
   "metadata": {
    "slideshow": {
     "slide_type": "fragment"
    }
   },
   "outputs": [
    {
     "data": {
      "text/html": [
       "<div>\n",
       "<style scoped>\n",
       "    .dataframe tbody tr th:only-of-type {\n",
       "        vertical-align: middle;\n",
       "    }\n",
       "\n",
       "    .dataframe tbody tr th {\n",
       "        vertical-align: top;\n",
       "    }\n",
       "\n",
       "    .dataframe thead th {\n",
       "        text-align: right;\n",
       "    }\n",
       "</style>\n",
       "<table border=\"1\" class=\"dataframe\">\n",
       "  <thead>\n",
       "    <tr style=\"text-align: right;\">\n",
       "      <th></th>\n",
       "      <th>State/territory</th>\n",
       "      <th>Capital</th>\n",
       "      <th>City population</th>\n",
       "      <th>State/territory population</th>\n",
       "      <th>Percentage of state/territory population in capital city</th>\n",
       "      <th>Established</th>\n",
       "      <th>Capital since</th>\n",
       "    </tr>\n",
       "  </thead>\n",
       "  <tbody>\n",
       "    <tr>\n",
       "      <th>0</th>\n",
       "      <td>Australian Capital Territory</td>\n",
       "      <td>Canberra</td>\n",
       "      <td>403468</td>\n",
       "      <td>403468</td>\n",
       "      <td>100.00%</td>\n",
       "      <td>1913</td>\n",
       "      <td>1913</td>\n",
       "    </tr>\n",
       "    <tr>\n",
       "      <th>1</th>\n",
       "      <td>New South Wales</td>\n",
       "      <td>Sydney</td>\n",
       "      <td>5029768</td>\n",
       "      <td>7759274</td>\n",
       "      <td>64.82%</td>\n",
       "      <td>1788</td>\n",
       "      <td>1788</td>\n",
       "    </tr>\n",
       "    <tr>\n",
       "      <th>2</th>\n",
       "      <td>Northern Territory</td>\n",
       "      <td>Darwin</td>\n",
       "      <td>145916</td>\n",
       "      <td>245740</td>\n",
       "      <td>59.38%</td>\n",
       "      <td>1869</td>\n",
       "      <td>1911</td>\n",
       "    </tr>\n",
       "    <tr>\n",
       "      <th>3</th>\n",
       "      <td>Queensland</td>\n",
       "      <td>Brisbane</td>\n",
       "      <td>2360241</td>\n",
       "      <td>4848877</td>\n",
       "      <td>48.68%</td>\n",
       "      <td>1825</td>\n",
       "      <td>1860</td>\n",
       "    </tr>\n",
       "    <tr>\n",
       "      <th>4</th>\n",
       "      <td>South Australia</td>\n",
       "      <td>Adelaide</td>\n",
       "      <td>1324279</td>\n",
       "      <td>1713054</td>\n",
       "      <td>77.31%</td>\n",
       "      <td>1836</td>\n",
       "      <td>1836</td>\n",
       "    </tr>\n",
       "  </tbody>\n",
       "</table>\n",
       "</div>"
      ],
      "text/plain": [
       "                State/territory   Capital  City population  \\\n",
       "0  Australian Capital Territory  Canberra           403468   \n",
       "1               New South Wales    Sydney          5029768   \n",
       "2            Northern Territory    Darwin           145916   \n",
       "3                    Queensland  Brisbane          2360241   \n",
       "4               South Australia  Adelaide          1324279   \n",
       "\n",
       "   State/territory population  \\\n",
       "0                      403468   \n",
       "1                     7759274   \n",
       "2                      245740   \n",
       "3                     4848877   \n",
       "4                     1713054   \n",
       "\n",
       "  Percentage of state/territory population in capital city  Established  \\\n",
       "0                                            100.00%               1913   \n",
       "1                                             64.82%               1788   \n",
       "2                                             59.38%               1869   \n",
       "3                                             48.68%               1825   \n",
       "4                                             77.31%               1836   \n",
       "\n",
       "   Capital since  \n",
       "0           1913  \n",
       "1           1788  \n",
       "2           1911  \n",
       "3           1860  \n",
       "4           1836  "
      ]
     },
     "execution_count": 7,
     "metadata": {},
     "output_type": "execute_result"
    }
   ],
   "source": [
    "df = df.drop(['Image'], axis=1)\n",
    "df.head()"
   ]
  },
  {
   "cell_type": "markdown",
   "metadata": {},
   "source": [
    "#### Reset an index"
   ]
  },
  {
   "cell_type": "code",
   "execution_count": 8,
   "metadata": {},
   "outputs": [
    {
     "data": {
      "text/html": [
       "<div>\n",
       "<style scoped>\n",
       "    .dataframe tbody tr th:only-of-type {\n",
       "        vertical-align: middle;\n",
       "    }\n",
       "\n",
       "    .dataframe tbody tr th {\n",
       "        vertical-align: top;\n",
       "    }\n",
       "\n",
       "    .dataframe thead th {\n",
       "        text-align: right;\n",
       "    }\n",
       "</style>\n",
       "<table border=\"1\" class=\"dataframe\">\n",
       "  <thead>\n",
       "    <tr style=\"text-align: right;\">\n",
       "      <th></th>\n",
       "      <th>State/territory</th>\n",
       "      <th>Capital</th>\n",
       "      <th>City population</th>\n",
       "      <th>State/territory population</th>\n",
       "      <th>Percentage of state/territory population in capital city</th>\n",
       "      <th>Established</th>\n",
       "      <th>Capital since</th>\n",
       "    </tr>\n",
       "  </thead>\n",
       "  <tbody>\n",
       "    <tr>\n",
       "      <th>0</th>\n",
       "      <td>Australian Capital Territory</td>\n",
       "      <td>Canberra</td>\n",
       "      <td>403468</td>\n",
       "      <td>403468</td>\n",
       "      <td>100.00%</td>\n",
       "      <td>1913</td>\n",
       "      <td>1913</td>\n",
       "    </tr>\n",
       "    <tr>\n",
       "      <th>1</th>\n",
       "      <td>New South Wales</td>\n",
       "      <td>Sydney</td>\n",
       "      <td>5029768</td>\n",
       "      <td>7759274</td>\n",
       "      <td>64.82%</td>\n",
       "      <td>1788</td>\n",
       "      <td>1788</td>\n",
       "    </tr>\n",
       "    <tr>\n",
       "      <th>2</th>\n",
       "      <td>Northern Territory</td>\n",
       "      <td>Darwin</td>\n",
       "      <td>145916</td>\n",
       "      <td>245740</td>\n",
       "      <td>59.38%</td>\n",
       "      <td>1869</td>\n",
       "      <td>1911</td>\n",
       "    </tr>\n",
       "    <tr>\n",
       "      <th>3</th>\n",
       "      <td>Queensland</td>\n",
       "      <td>Brisbane</td>\n",
       "      <td>2360241</td>\n",
       "      <td>4848877</td>\n",
       "      <td>48.68%</td>\n",
       "      <td>1825</td>\n",
       "      <td>1860</td>\n",
       "    </tr>\n",
       "    <tr>\n",
       "      <th>4</th>\n",
       "      <td>South Australia</td>\n",
       "      <td>Adelaide</td>\n",
       "      <td>1324279</td>\n",
       "      <td>1713054</td>\n",
       "      <td>77.31%</td>\n",
       "      <td>1836</td>\n",
       "      <td>1836</td>\n",
       "    </tr>\n",
       "  </tbody>\n",
       "</table>\n",
       "</div>"
      ],
      "text/plain": [
       "                State/territory   Capital  City population  \\\n",
       "0  Australian Capital Territory  Canberra           403468   \n",
       "1               New South Wales    Sydney          5029768   \n",
       "2            Northern Territory    Darwin           145916   \n",
       "3                    Queensland  Brisbane          2360241   \n",
       "4               South Australia  Adelaide          1324279   \n",
       "\n",
       "   State/territory population  \\\n",
       "0                      403468   \n",
       "1                     7759274   \n",
       "2                      245740   \n",
       "3                     4848877   \n",
       "4                     1713054   \n",
       "\n",
       "  Percentage of state/territory population in capital city  Established  \\\n",
       "0                                            100.00%               1913   \n",
       "1                                             64.82%               1788   \n",
       "2                                             59.38%               1869   \n",
       "3                                             48.68%               1825   \n",
       "4                                             77.31%               1836   \n",
       "\n",
       "   Capital since  \n",
       "0           1913  \n",
       "1           1788  \n",
       "2           1911  \n",
       "3           1860  \n",
       "4           1836  "
      ]
     },
     "execution_count": 8,
     "metadata": {},
     "output_type": "execute_result"
    }
   ],
   "source": [
    "df = df.reset_index(drop=True)\n",
    "df.head()"
   ]
  },
  {
   "cell_type": "code",
   "execution_count": 9,
   "metadata": {},
   "outputs": [
    {
     "data": {
      "text/html": [
       "<div>\n",
       "<style scoped>\n",
       "    .dataframe tbody tr th:only-of-type {\n",
       "        vertical-align: middle;\n",
       "    }\n",
       "\n",
       "    .dataframe tbody tr th {\n",
       "        vertical-align: top;\n",
       "    }\n",
       "\n",
       "    .dataframe thead th {\n",
       "        text-align: right;\n",
       "    }\n",
       "</style>\n",
       "<table border=\"1\" class=\"dataframe\">\n",
       "  <thead>\n",
       "    <tr style=\"text-align: right;\">\n",
       "      <th></th>\n",
       "      <th>State/territory</th>\n",
       "      <th>Capital</th>\n",
       "      <th>City population</th>\n",
       "      <th>State/territory population</th>\n",
       "      <th>Percentage of state/territory population in capital city</th>\n",
       "      <th>Established</th>\n",
       "      <th>Capital since</th>\n",
       "    </tr>\n",
       "  </thead>\n",
       "  <tbody>\n",
       "    <tr>\n",
       "      <th>1</th>\n",
       "      <td>New South Wales</td>\n",
       "      <td>Sydney</td>\n",
       "      <td>5029768</td>\n",
       "      <td>7759274</td>\n",
       "      <td>64.82%</td>\n",
       "      <td>1788</td>\n",
       "      <td>1788</td>\n",
       "    </tr>\n",
       "  </tbody>\n",
       "</table>\n",
       "</div>"
      ],
      "text/plain": [
       "   State/territory Capital  City population  State/territory population  \\\n",
       "1  New South Wales  Sydney          5029768                     7759274   \n",
       "\n",
       "  Percentage of state/territory population in capital city  Established  \\\n",
       "1                                             64.82%               1788   \n",
       "\n",
       "   Capital since  \n",
       "1           1788  "
      ]
     },
     "execution_count": 9,
     "metadata": {},
     "output_type": "execute_result"
    }
   ],
   "source": [
    "df.loc[df[\"State/territory\"]==\"New South Wales\"]"
   ]
  },
  {
   "cell_type": "markdown",
   "metadata": {
    "slideshow": {
     "slide_type": "slide"
    }
   },
   "source": [
    "## Export DataFrame as CSV"
   ]
  },
  {
   "cell_type": "code",
   "execution_count": 10,
   "metadata": {
    "scrolled": true,
    "slideshow": {
     "slide_type": "fragment"
    }
   },
   "outputs": [],
   "source": [
    "df.to_csv(\"australian_city_data.csv\", index=False)"
   ]
  },
  {
   "cell_type": "code",
   "execution_count": null,
   "metadata": {},
   "outputs": [],
   "source": []
  }
 ],
 "metadata": {
  "kernelspec": {
   "display_name": "Python 3 (ipykernel)",
   "language": "python",
   "name": "python3"
  },
  "language_info": {
   "codemirror_mode": {
    "name": "ipython",
    "version": 3
   },
   "file_extension": ".py",
   "mimetype": "text/x-python",
   "name": "python",
   "nbconvert_exporter": "python",
   "pygments_lexer": "ipython3",
   "version": "3.10.13"
  },
  "varInspector": {
   "cols": {
    "lenName": 16,
    "lenType": 16,
    "lenVar": 40
   },
   "kernels_config": {
    "python": {
     "delete_cmd_postfix": "",
     "delete_cmd_prefix": "del ",
     "library": "var_list.py",
     "varRefreshCmd": "print(var_dic_list())"
    },
    "r": {
     "delete_cmd_postfix": ") ",
     "delete_cmd_prefix": "rm(",
     "library": "var_list.r",
     "varRefreshCmd": "cat(var_dic_list()) "
    }
   },
   "types_to_exclude": [
    "module",
    "function",
    "builtin_function_or_method",
    "instance",
    "_Feature"
   ],
   "window_display": false
  }
 },
 "nbformat": 4,
 "nbformat_minor": 4
}
